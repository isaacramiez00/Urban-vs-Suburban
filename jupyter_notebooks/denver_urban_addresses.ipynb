{
 "cells": [
  {
   "cell_type": "code",
   "execution_count": 1,
   "metadata": {},
   "outputs": [],
   "source": [
    "import pyspark as ps\n",
    "from pyspark.sql.functions import col\n",
    "spark = ps.sql.SparkSession.builder \\\n",
    "            .master(\"local[4]\") \\\n",
    "            .appName(\"Colorado-Addresess\") \\\n",
    "            .getOrCreate()\n",
    "sc = spark.sparkContext"
   ]
  },
  {
   "cell_type": "code",
   "execution_count": 2,
   "metadata": {},
   "outputs": [],
   "source": [
    "# df = spark.read.format(\"csv\").option(\"header\", \"true\").load(\"urbanAddresses.csv\")"
   ]
  },
  {
   "cell_type": "code",
   "execution_count": 2,
   "metadata": {},
   "outputs": [],
   "source": [
    "df = spark.read.csv('urbanAddresses.csv',\n",
    "                         header=True,       # use headers or not\n",
    "                         quote='\"',         # char for quotes\n",
    "                         sep=\",\",           # char for separation\n",
    "                         inferSchema=True)"
   ]
  },
  {
   "cell_type": "code",
   "execution_count": 5,
   "metadata": {},
   "outputs": [
    {
     "name": "stdout",
     "output_type": "stream",
     "text": [
      "root\n",
      " |-- ADDRESS_TYPE: string (nullable = true)\n",
      " |-- X_COORD: double (nullable = true)\n",
      " |-- Y_COORD: double (nullable = true)\n",
      " |-- LATITUDE: double (nullable = true)\n",
      " |-- LONGITUDE: double (nullable = true)\n",
      " |-- ADDRESS_NUMBER_PREFIX: string (nullable = true)\n",
      " |-- ADDRESS_NUMBER: double (nullable = true)\n",
      " |-- ADDRESS_NUMBER_SUFFIX: string (nullable = true)\n",
      " |-- PREMODIFIER: string (nullable = true)\n",
      " |-- PREDIRECTIONAL: string (nullable = true)\n",
      " |-- STREET_NAME: string (nullable = true)\n",
      " |-- POSTTYPE: string (nullable = true)\n",
      " |-- POSTDIRECTIONAL: string (nullable = true)\n",
      " |-- POSTMODIFIER: string (nullable = true)\n",
      " |-- BUILDING_TYPE: string (nullable = true)\n",
      " |-- BUILDING_IDENTIFIER: string (nullable = true)\n",
      " |-- UNIT_TYPE: string (nullable = true)\n",
      " |-- UNIT_IDENTIFIER: string (nullable = true)\n",
      " |-- COMPOSITE_UNIT_TYPE: string (nullable = true)\n",
      " |-- COMPOSIT_UNIT_IDENTIFIER: string (nullable = true)\n",
      " |-- FULL_ADDRESS: string (nullable = true)\n",
      "\n"
     ]
    }
   ],
   "source": [
    "# df.printSchema()"
   ]
  },
  {
   "cell_type": "code",
   "execution_count": 6,
   "metadata": {},
   "outputs": [
    {
     "data": {
      "text/plain": [
       "325086"
      ]
     },
     "execution_count": 6,
     "metadata": {},
     "output_type": "execute_result"
    }
   ],
   "source": [
    "# df.show()\n",
    "# df.count()"
   ]
  },
  {
   "cell_type": "code",
   "execution_count": 3,
   "metadata": {},
   "outputs": [],
   "source": [
    "from pyspark.sql.types import ArrayType, StructField, StructType, StringType, IntegerType\n",
    "\n",
    "# broomfield_df.select('FULL_ADDRESS').filter(col('CITY') == 'BROOMFIELD').show()\n",
    "\n",
    "# rename columns\n",
    "df = df.withColumnRenamed(\"FULL_ADDRESS\", \"address\")\n",
    "\n",
    "df_sample = df.select('address').distinct().rdd.takeSample(False, 1000, seed=463)\n",
    "\n",
    "# Create a schema for the dataframe\n",
    "schema = StructType([\n",
    "    StructField('address', StringType(), True),\n",
    "])\n",
    "\n",
    "# create new dataframe yoooo\n",
    "new_df = spark.createDataFrame(df_sample, schema)\n",
    "\n",
    "# df.select('STREET_NAME').rdd.takeSample(False, 250, seed=0)\n"
   ]
  },
  {
   "cell_type": "code",
   "execution_count": 4,
   "metadata": {},
   "outputs": [
    {
     "data": {
      "text/html": [
       "<div>\n",
       "<style scoped>\n",
       "    .dataframe tbody tr th:only-of-type {\n",
       "        vertical-align: middle;\n",
       "    }\n",
       "\n",
       "    .dataframe tbody tr th {\n",
       "        vertical-align: top;\n",
       "    }\n",
       "\n",
       "    .dataframe thead th {\n",
       "        text-align: right;\n",
       "    }\n",
       "</style>\n",
       "<table border=\"1\" class=\"dataframe\">\n",
       "  <thead>\n",
       "    <tr style=\"text-align: right;\">\n",
       "      <th></th>\n",
       "      <th>address</th>\n",
       "      <th>city</th>\n",
       "      <th>state</th>\n",
       "    </tr>\n",
       "  </thead>\n",
       "  <tbody>\n",
       "    <tr>\n",
       "      <th>0</th>\n",
       "      <td>[1430, larimer, st]</td>\n",
       "      <td>denver</td>\n",
       "      <td>co</td>\n",
       "    </tr>\n",
       "    <tr>\n",
       "      <th>1</th>\n",
       "      <td>[2555, 17th, st, unit, 203]</td>\n",
       "      <td>denver</td>\n",
       "      <td>co</td>\n",
       "    </tr>\n",
       "    <tr>\n",
       "      <th>2</th>\n",
       "      <td>[153, n, vallejo, st, unit, 103]</td>\n",
       "      <td>denver</td>\n",
       "      <td>co</td>\n",
       "    </tr>\n",
       "    <tr>\n",
       "      <th>3</th>\n",
       "      <td>[19011, e, 57th, pl]</td>\n",
       "      <td>denver</td>\n",
       "      <td>co</td>\n",
       "    </tr>\n",
       "    <tr>\n",
       "      <th>4</th>\n",
       "      <td>[652, n, inca, st]</td>\n",
       "      <td>denver</td>\n",
       "      <td>co</td>\n",
       "    </tr>\n",
       "  </tbody>\n",
       "</table>\n",
       "</div>"
      ],
      "text/plain": [
       "                            address    city state\n",
       "0               [1430, larimer, st]  denver    co\n",
       "1       [2555, 17th, st, unit, 203]  denver    co\n",
       "2  [153, n, vallejo, st, unit, 103]  denver    co\n",
       "3              [19011, e, 57th, pl]  denver    co\n",
       "4                [652, n, inca, st]  denver    co"
      ]
     },
     "execution_count": 4,
     "metadata": {},
     "output_type": "execute_result"
    }
   ],
   "source": [
    "# new_df.show()\n",
    "from pyspark.sql.functions import lit\n",
    "\n",
    "\n",
    "new_df = new_df.withColumn(\"city\", lit('Denver'))\\\n",
    "               .withColumn('state', lit('CO'))\n",
    "\n",
    "# new_df.show(250, truncate=False)\n",
    "\n",
    "# new_df.select('address').filter()\n",
    "\n",
    "# count = new_df.count()\n",
    "# for i in range(count):\n",
    "#     printnew_df.collect()[i]['address'])\n",
    "\n",
    "# print(new_df.collect()[0]['city'] + ' '+ new_df.collect()[0]['state'])\n",
    "test_df = new_df.toPandas()\n",
    "test_df.head()\n",
    "\n",
    "# for i in range(5):\n",
    "#     print(test_df.loc[i,'address'])\n",
    "\n",
    "test_df = test_df.apply(lambda x: x.astype(str).str.lower())\n",
    "test_df['address'] = test_df['address'].apply(lambda x: x.split())\n",
    "test_df.head()\n",
    "# new_df = lower_address(new_df)\n",
    "# df.withColumn('age2', df.age + 2).collect()"
   ]
  },
  {
   "cell_type": "code",
   "execution_count": 5,
   "metadata": {},
   "outputs": [
    {
     "data": {
      "text/html": [
       "<div>\n",
       "<style scoped>\n",
       "    .dataframe tbody tr th:only-of-type {\n",
       "        vertical-align: middle;\n",
       "    }\n",
       "\n",
       "    .dataframe tbody tr th {\n",
       "        vertical-align: top;\n",
       "    }\n",
       "\n",
       "    .dataframe thead th {\n",
       "        text-align: right;\n",
       "    }\n",
       "</style>\n",
       "<table border=\"1\" class=\"dataframe\">\n",
       "  <thead>\n",
       "    <tr style=\"text-align: right;\">\n",
       "      <th></th>\n",
       "      <th>address</th>\n",
       "      <th>city</th>\n",
       "      <th>state</th>\n",
       "    </tr>\n",
       "  </thead>\n",
       "  <tbody>\n",
       "    <tr>\n",
       "      <th>0</th>\n",
       "      <td>1430 larimer st</td>\n",
       "      <td>denver</td>\n",
       "      <td>co</td>\n",
       "    </tr>\n",
       "    <tr>\n",
       "      <th>1</th>\n",
       "      <td>2555 17th st</td>\n",
       "      <td>denver</td>\n",
       "      <td>co</td>\n",
       "    </tr>\n",
       "    <tr>\n",
       "      <th>2</th>\n",
       "      <td>153 n vallejo st</td>\n",
       "      <td>denver</td>\n",
       "      <td>co</td>\n",
       "    </tr>\n",
       "    <tr>\n",
       "      <th>3</th>\n",
       "      <td>19011 e 57th pl</td>\n",
       "      <td>denver</td>\n",
       "      <td>co</td>\n",
       "    </tr>\n",
       "    <tr>\n",
       "      <th>4</th>\n",
       "      <td>652 n inca st</td>\n",
       "      <td>denver</td>\n",
       "      <td>co</td>\n",
       "    </tr>\n",
       "  </tbody>\n",
       "</table>\n",
       "</div>"
      ],
      "text/plain": [
       "            address    city state\n",
       "0   1430 larimer st  denver    co\n",
       "1      2555 17th st  denver    co\n",
       "2  153 n vallejo st  denver    co\n",
       "3   19011 e 57th pl  denver    co\n",
       "4     652 n inca st  denver    co"
      ]
     },
     "execution_count": 5,
     "metadata": {},
     "output_type": "execute_result"
    }
   ],
   "source": [
    "def clean_wrds(df, col='address'):\n",
    "    \n",
    "    bad_wrds = ['bldg', 'unit', 'apt', '#', 'irrp']\n",
    "    clear_wrds = df.loc[:, col]\n",
    "    for i, lst in enumerate(clear_wrds,0):\n",
    "        for wrd in lst:\n",
    "            if wrd in bad_wrds:\n",
    "                lst.remove(wrd)\n",
    "                lst.pop(-1)\n",
    "        lst = ' '.join(lst)\n",
    "        clear_wrds[i] = lst\n",
    "\n",
    "    return clear_wrds\n",
    "\n",
    "clean_wrds(test_df)\n",
    "test_df.head()\n"
   ]
  },
  {
   "cell_type": "code",
   "execution_count": 7,
   "metadata": {},
   "outputs": [
    {
     "data": {
      "text/html": [
       "<div>\n",
       "<style scoped>\n",
       "    .dataframe tbody tr th:only-of-type {\n",
       "        vertical-align: middle;\n",
       "    }\n",
       "\n",
       "    .dataframe tbody tr th {\n",
       "        vertical-align: top;\n",
       "    }\n",
       "\n",
       "    .dataframe thead th {\n",
       "        text-align: right;\n",
       "    }\n",
       "</style>\n",
       "<table border=\"1\" class=\"dataframe\">\n",
       "  <thead>\n",
       "    <tr style=\"text-align: right;\">\n",
       "      <th></th>\n",
       "      <th>address</th>\n",
       "      <th>city</th>\n",
       "      <th>state</th>\n",
       "    </tr>\n",
       "  </thead>\n",
       "  <tbody>\n",
       "    <tr>\n",
       "      <th>0</th>\n",
       "      <td>1430 larimer st</td>\n",
       "      <td>denver</td>\n",
       "      <td>co</td>\n",
       "    </tr>\n",
       "    <tr>\n",
       "      <th>1</th>\n",
       "      <td>2555 17th st</td>\n",
       "      <td>denver</td>\n",
       "      <td>co</td>\n",
       "    </tr>\n",
       "    <tr>\n",
       "      <th>2</th>\n",
       "      <td>153 n vallejo st</td>\n",
       "      <td>denver</td>\n",
       "      <td>co</td>\n",
       "    </tr>\n",
       "    <tr>\n",
       "      <th>3</th>\n",
       "      <td>19011 e 57th pl</td>\n",
       "      <td>denver</td>\n",
       "      <td>co</td>\n",
       "    </tr>\n",
       "    <tr>\n",
       "      <th>4</th>\n",
       "      <td>652 n inca st</td>\n",
       "      <td>denver</td>\n",
       "      <td>co</td>\n",
       "    </tr>\n",
       "  </tbody>\n",
       "</table>\n",
       "</div>"
      ],
      "text/plain": [
       "            address    city state\n",
       "0   1430 larimer st  denver    co\n",
       "1      2555 17th st  denver    co\n",
       "2  153 n vallejo st  denver    co\n",
       "3   19011 e 57th pl  denver    co\n",
       "4     652 n inca st  denver    co"
      ]
     },
     "execution_count": 7,
     "metadata": {},
     "output_type": "execute_result"
    }
   ],
   "source": [
    "test_df.head()"
   ]
  },
  {
   "cell_type": "code",
   "execution_count": null,
   "metadata": {},
   "outputs": [],
   "source": []
  }
 ],
 "metadata": {
  "kernelspec": {
   "display_name": "Python 3",
   "language": "python",
   "name": "python3"
  },
  "language_info": {
   "codemirror_mode": {
    "name": "ipython",
    "version": 3
   },
   "file_extension": ".py",
   "mimetype": "text/x-python",
   "name": "python",
   "nbconvert_exporter": "python",
   "pygments_lexer": "ipython3",
   "version": "3.7.3"
  }
 },
 "nbformat": 4,
 "nbformat_minor": 4
}
